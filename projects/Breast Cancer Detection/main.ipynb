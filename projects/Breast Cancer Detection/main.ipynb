{
 "cells": [
  {
   "cell_type": "code",
   "execution_count": null,
   "metadata": {},
   "outputs": [],
   "source": [
    "import pandas as pd\n",
    "from sklearn.model_selection import train_test_split\n",
    "from sklearn.neighbors import KNeighborsClassifier\n",
    "from sklearn.ensemble import RandomForestClassifier\n",
    "from sklearn.metrics import accuracy_score, confusion_matrix, precision_score, recall_score, f1_score"
   ]
  },
  {
   "cell_type": "code",
   "execution_count": null,
   "metadata": {},
   "outputs": [],
   "source": [
    "df = pd.read_csv('breast-cancer.csv')\n",
    "df.head(10)"
   ]
  },
  {
   "cell_type": "code",
   "execution_count": null,
   "metadata": {},
   "outputs": [],
   "source": [
    "df.isnull().sum().sum()"
   ]
  },
  {
   "cell_type": "code",
   "execution_count": null,
   "metadata": {},
   "outputs": [],
   "source": [
    "for column in df.columns:\n",
    "    df2 = df.drop_duplicates(subset=f'{column}')"
   ]
  },
  {
   "cell_type": "code",
   "execution_count": null,
   "metadata": {},
   "outputs": [],
   "source": [
    "for column in df.columns:\n",
    "    df2 = df.drop_duplicates(subset=f'{column}') "
   ]
  },
  {
   "cell_type": "code",
   "execution_count": null,
   "metadata": {},
   "outputs": [],
   "source": [
    "df2['diagnosis'].replace('M', 1, inplace=True)\n",
    "df2['diagnosis'].replace('B', 0, inplace=True)"
   ]
  },
  {
   "cell_type": "code",
   "execution_count": null,
   "metadata": {},
   "outputs": [],
   "source": [
    "df2.corr(method='kendall')"
   ]
  },
  {
   "cell_type": "markdown",
   "metadata": {},
   "source": [
    "##KNN-Neighbours"
   ]
  },
  {
   "cell_type": "code",
   "execution_count": null,
   "metadata": {},
   "outputs": [],
   "source": [
    "train, test = train_test_split(df2, test_size=0.2)\n",
    "X_train = train[[column for column in df2.columns if column != 'diagnosis']]\n",
    "y_train = train['diagnosis']\n",
    "\n",
    "X_test = test[[column for column in df2.columns if column != 'diagnosis']]\n",
    "y_test = test['diagnosis']\n",
    "\n",
    "knn = KNeighborsClassifier(n_neighbors=6)\n",
    "knn.fit(X_train, y_train)\n",
    "\n",
    "y_pred = knn.predict(X_test)\n",
    "\n",
    "knn_f1_score = f1_score(y_pred, y_test)\n",
    "knn_accuracy = accuracy_score(y_pred, y_test)\n",
    "knn_precision = precision_score(y_pred, y_test)\n",
    "knn_recall = recall_score(y_pred, y_test)\n",
    "knn_cm = confusion_matrix(y_pred, y_test)"
   ]
  },
  {
   "cell_type": "markdown",
   "metadata": {},
   "source": [
    "##Random Forest"
   ]
  },
  {
   "cell_type": "code",
   "execution_count": null,
   "metadata": {},
   "outputs": [],
   "source": [
    "train, test = train_test_split(df2, test_size=0.2)\n",
    "X_train = train[[column for column in df2.columns if column != 'diagnosis']]\n",
    "y_train = train['diagnosis']\n",
    "\n",
    "X_test = test[[column for column in df2.columns if column != 'diagnosis']]\n",
    "y_test = test['diagnosis']\n",
    "\n",
    "rf = RandomForestClassifier()\n",
    "rf.fit(X_train, y_train)\n",
    "\n",
    "y_pred = rf.predict(X_test)\n",
    "\n",
    "rf_f1_score = f1_score(y_pred, y_test)\n",
    "rf_accuracy = accuracy_score(y_pred, y_test)\n",
    "rf_precision = precision_score(y_pred, y_test)\n",
    "rf_recall = recall_score(y_pred, y_test)\n",
    "rf_cm = confusion_matrix(y_pred, y_test)"
   ]
  }
 ],
 "metadata": {
  "kernelspec": {
   "display_name": "Python 3",
   "language": "python",
   "name": "python3"
  },
  "language_info": {
   "codemirror_mode": {
    "name": "ipython",
    "version": 3
   },
   "file_extension": ".py",
   "mimetype": "text/x-python",
   "name": "python",
   "nbconvert_exporter": "python",
   "pygments_lexer": "ipython3",
   "version": "3.9.7"
  }
 },
 "nbformat": 4,
 "nbformat_minor": 2
}
